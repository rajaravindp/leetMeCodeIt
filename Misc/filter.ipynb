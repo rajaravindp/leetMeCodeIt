{
 "cells": [
  {
   "cell_type": "code",
   "execution_count": 2,
   "metadata": {},
   "outputs": [
    {
     "data": {
      "text/plain": [
       "True"
      ]
     },
     "execution_count": 2,
     "metadata": {},
     "output_type": "execute_result"
    }
   ],
   "source": [
    "def even(num):\n",
    "    return num % 2 == 0\n",
    "\n",
    "even(32)"
   ]
  },
  {
   "cell_type": "code",
   "execution_count": 3,
   "metadata": {},
   "outputs": [
    {
     "data": {
      "text/plain": [
       "[2, 4, 6, 8, 10]"
      ]
     },
     "execution_count": 3,
     "metadata": {},
     "output_type": "execute_result"
    }
   ],
   "source": [
    "nums = [1, 2, 3, 4, 5, 6, 7, 8, 9, 10]\n",
    "evens = list(filter(even, nums)); evens"
   ]
  },
  {
   "cell_type": "code",
   "execution_count": 4,
   "metadata": {},
   "outputs": [
    {
     "data": {
      "text/plain": [
       "[3, 33, 12, 54]"
      ]
     },
     "execution_count": 4,
     "metadata": {},
     "output_type": "execute_result"
    }
   ],
   "source": [
    "numz = [4, 44, 3, 33, 2, 22, 1, 11, 12, 22, 54]\n",
    "odds = list(filter(lambda n: n%3 == 0, numz)); odds"
   ]
  },
  {
   "cell_type": "code",
   "execution_count": 7,
   "metadata": {},
   "outputs": [
    {
     "data": {
      "text/plain": [
       "[44, 22, 12, 22, 54]"
      ]
     },
     "execution_count": 7,
     "metadata": {},
     "output_type": "execute_result"
    }
   ],
   "source": [
    "numx = [2, 23, 1, 4, 7, 56, 77, 78]\n",
    "x = list(filter(lambda n: n%2 == 0 and n>10, numz)); x"
   ]
  },
  {
   "cell_type": "code",
   "execution_count": 9,
   "metadata": {},
   "outputs": [
    {
     "data": {
      "text/plain": [
       "[{'name': 'Buddy', 'age': 5, 'breed': 'German Shepherd'},\n",
       " {'name': 'Max', 'age': 6, 'breed': 'Poodle'},\n",
       " {'name': 'Cosco', 'age': 8, 'breed': 'Labrador'}]"
      ]
     },
     "execution_count": 9,
     "metadata": {},
     "output_type": "execute_result"
    }
   ],
   "source": [
    "doggi = [\n",
    "    {\"name\": \"Nemo\", \"age\": 3, \"breed\": \"Golden Retriever\"},\n",
    "    {\"name\": \"Buddy\", \"age\": 5, \"breed\": \"German Shepherd\"},\n",
    "    {\"name\": \"Max\", \"age\": 6, \"breed\": \"Poodle\"},\n",
    "    {\"name\": \"Cosco\", \"age\": 8, \"breed\": \"Labrador\"},\n",
    "    {\"name\": \"Bella\", \"age\": 2, \"breed\": \"Pug\"}\n",
    "]\n",
    "\n",
    "def puppy_adult(pup):\n",
    "    return pup[\"age\"] >= 4\n",
    "\n",
    "res = list(filter(puppy_adult, doggi)); res"
   ]
  },
  {
   "cell_type": "code",
   "execution_count": 38,
   "metadata": {},
   "outputs": [],
   "source": []
  },
  {
   "cell_type": "code",
   "execution_count": 39,
   "metadata": {},
   "outputs": [
    {
     "data": {
      "text/plain": [
       "['*****', '*****', '*****', '*****', '*****']"
      ]
     },
     "execution_count": 39,
     "metadata": {},
     "output_type": "execute_result"
    }
   ],
   "source": [
    "generate_square(5)"
   ]
  }
 ],
 "metadata": {
  "kernelspec": {
   "display_name": "Python 3",
   "language": "python",
   "name": "python3"
  },
  "language_info": {
   "codemirror_mode": {
    "name": "ipython",
    "version": 3
   },
   "file_extension": ".py",
   "mimetype": "text/x-python",
   "name": "python",
   "nbconvert_exporter": "python",
   "pygments_lexer": "ipython3",
   "version": "3.11.4"
  }
 },
 "nbformat": 4,
 "nbformat_minor": 2
}
