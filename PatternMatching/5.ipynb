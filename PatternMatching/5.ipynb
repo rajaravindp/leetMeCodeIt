{
 "cells": [
  {
   "cell_type": "markdown",
   "metadata": {},
   "source": [
    "# Inverted Right Angled Triangle\n",
    "Problem Description:\n",
    "\n",
    "You are given an integer n. Your task is to return an inverted right-angled triangle pattern of '*' where each side has n characters, represented as a list of strings. The first row should have n stars, the second row n-1 stars, and so on, until the last row has 1 star.\n",
    "\n",
    "\n",
    "\n",
    "Input Parameters:\n",
    "\n",
    "n (int): The height and base of the inverted right-angled triangle.\n",
    "\n",
    "\n",
    "\n",
    "Output:\n",
    "\n",
    "A list of strings where each string is a row of '*' characters that decreases in length from n to 1.\n",
    "\n",
    "\n",
    "\n",
    "Example:\n",
    "\n",
    "Input: 3\n",
    "Output: ['+++', '++', '+']\n",
    " \n",
    "Input: 5\n",
    "Output: ['+++++', '++++', '+++', '++', '+']"
   ]
  },
  {
   "cell_type": "code",
   "execution_count": 19,
   "metadata": {},
   "outputs": [],
   "source": [
    "def generate_inverted_triangle(n):\n",
    "    res = []\n",
    "\n",
    "    for i in range(1, n+1):\n",
    "        res.append(i* \"+\")\n",
    "    \n",
    "    left = 0\n",
    "    right = len(res) - 1\n",
    "\n",
    "    while left < right:\n",
    "        res[left], res[right] = res[right], res[left]\n",
    "        left += 1\n",
    "        right -= 1\n",
    "\n",
    "    return res\n"
   ]
  },
  {
   "cell_type": "code",
   "execution_count": 20,
   "metadata": {},
   "outputs": [
    {
     "data": {
      "text/plain": [
       "['+++++', '++++', '+++', '++', '+']"
      ]
     },
     "execution_count": 20,
     "metadata": {},
     "output_type": "execute_result"
    }
   ],
   "source": [
    "generate_inverted_triangle(5)"
   ]
  }
 ],
 "metadata": {
  "kernelspec": {
   "display_name": "Python 3",
   "language": "python",
   "name": "python3"
  },
  "language_info": {
   "codemirror_mode": {
    "name": "ipython",
    "version": 3
   },
   "file_extension": ".py",
   "mimetype": "text/x-python",
   "name": "python",
   "nbconvert_exporter": "python",
   "pygments_lexer": "ipython3",
   "version": "3.11.4"
  }
 },
 "nbformat": 4,
 "nbformat_minor": 2
}
