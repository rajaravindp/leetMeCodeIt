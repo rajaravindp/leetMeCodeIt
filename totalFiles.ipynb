{
 "cells": [
  {
   "cell_type": "code",
   "execution_count": 8,
   "metadata": {},
   "outputs": [
    {
     "name": "stdout",
     "output_type": "stream",
     "text": [
      "C:\\Users\\Aravind\\OneDrive\\Documents\\DSA: 3 files\n",
      "C:\\Users\\Aravind\\OneDrive\\Documents\\DSA\\Array: 12 files\n",
      "C:\\Users\\Aravind\\OneDrive\\Documents\\DSA\\Hash: 1 files\n",
      "C:\\Users\\Aravind\\OneDrive\\Documents\\DSA\\Leetcode75: 17 files\n",
      "C:\\Users\\Aravind\\OneDrive\\Documents\\DSA\\LinkedList: 16 files\n",
      "C:\\Users\\Aravind\\OneDrive\\Documents\\DSA\\Misc: 43 files\n",
      "C:\\Users\\Aravind\\OneDrive\\Documents\\DSA\\PatternMatching: 11 files\n",
      "C:\\Users\\Aravind\\OneDrive\\Documents\\DSA\\Recursion: 32 files\n",
      "C:\\Users\\Aravind\\OneDrive\\Documents\\DSA\\Stacks&Queues: 6 files\n"
     ]
    }
   ],
   "source": [
    "import os\n",
    "\n",
    "def count_files_in_subdirs(directory, ignore_dirs=None):\n",
    "    if ignore_dirs is None:\n",
    "        ignore_dirs = []\n",
    "\n",
    "    # Dictionary to hold the count of files for each subdirectory\n",
    "    subdir_file_count = {}\n",
    "\n",
    "    # Walk through the directory\n",
    "    for subdir, _, files in os.walk(directory):\n",
    "        # Ignore specified directories\n",
    "        if any(ignore in subdir for ignore in ignore_dirs):\n",
    "            continue\n",
    "        \n",
    "        # Count the number of files in the current subdirectory\n",
    "        file_count = len(files)\n",
    "        \n",
    "        # Store the count in the dictionary\n",
    "        subdir_file_count[subdir] = file_count\n",
    "\n",
    "    return subdir_file_count\n",
    "\n",
    "# Specify the directory path\n",
    "directory_path = r\"C:\\Users\\Aravind\\OneDrive\\Documents\\DSA\"\n",
    "ignore_dirs = ['.git', '.vscode']  # Directories to ignore\n",
    "\n",
    "# Get the file counts\n",
    "file_counts = count_files_in_subdirs(directory_path, ignore_dirs)\n",
    "\n",
    "# Print the results\n",
    "for subdir, count in file_counts.items():\n",
    "    print(f\"{subdir}: {count} files\")\n"
   ]
  },
  {
   "cell_type": "code",
   "execution_count": 9,
   "metadata": {},
   "outputs": [
    {
     "data": {
      "text/plain": [
       "138"
      ]
     },
     "execution_count": 9,
     "metadata": {},
     "output_type": "execute_result"
    }
   ],
   "source": [
    "12 + 1 + 17 + 16 + 43 + 11 + 32 + 6"
   ]
  }
 ],
 "metadata": {
  "kernelspec": {
   "display_name": "Python 3",
   "language": "python",
   "name": "python3"
  },
  "language_info": {
   "codemirror_mode": {
    "name": "ipython",
    "version": 3
   },
   "file_extension": ".py",
   "mimetype": "text/x-python",
   "name": "python",
   "nbconvert_exporter": "python",
   "pygments_lexer": "ipython3",
   "version": "3.11.4"
  }
 },
 "nbformat": 4,
 "nbformat_minor": 2
}
