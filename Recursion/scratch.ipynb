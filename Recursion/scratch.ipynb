{
 "cells": [
  {
   "cell_type": "code",
<<<<<<< HEAD
   "execution_count": 1,
   "metadata": {},
   "outputs": [
    {
     "data": {
      "text/plain": [
       "0.125"
      ]
     },
     "execution_count": 1,
     "metadata": {},
     "output_type": "execute_result"
    }
   ],
   "source": [
    "2**-3"
   ]
  },
  {
   "cell_type": "code",
   "execution_count": 2,
   "metadata": {},
   "outputs": [
    {
     "data": {
      "text/plain": [
       "8.0"
      ]
     },
     "execution_count": 2,
     "metadata": {},
     "output_type": "execute_result"
    }
   ],
   "source": [
    "(1/2)**-3"
   ]
  },
  {
   "cell_type": "code",
   "execution_count": 4,
   "metadata": {},
   "outputs": [
    {
     "data": {
      "text/plain": [
       "0.0003007286598217175"
      ]
     },
     "execution_count": 4,
     "metadata": {},
     "output_type": "execute_result"
    }
   ],
   "source": [
    "pow(2.25, -10)"
   ]
  },
  {
   "cell_type": "code",
   "execution_count": 5,
   "metadata": {},
   "outputs": [
    {
     "data": {
      "text/plain": [
       "1"
      ]
     },
     "execution_count": 5,
     "metadata": {},
     "output_type": "execute_result"
    }
   ],
   "source": []
  },
  {
   "cell_type": "code",
   "execution_count": 8,
   "metadata": {},
   "outputs": [],
   "source": [
    "import math"
   ]
  },
  {
   "cell_type": "code",
   "execution_count": 9,
   "metadata": {},
   "outputs": [
    {
     "data": {
      "text/plain": [
       "2.8284271247461903"
      ]
     },
     "execution_count": 9,
     "metadata": {},
     "output_type": "execute_result"
    }
   ],
   "source": [
    "math.sqrt(8)"
   ]
  },
  {
   "cell_type": "code",
   "execution_count": 11,
=======
   "execution_count": 12,
>>>>>>> 3412204d1bc860432efe76bfbd07b6ff8eeb3e47
   "metadata": {},
   "outputs": [
    {
     "name": "stdout",
     "output_type": "stream",
     "text": [
<<<<<<< HEAD
      "32\n"
=======
      "[2, 3, 5, 6, 8]\n",
      "4\n"
>>>>>>> 3412204d1bc860432efe76bfbd07b6ff8eeb3e47
     ]
    }
   ],
   "source": [
<<<<<<< HEAD
    "class Solution:\n",
    "    x = 0\n",
    "    def isPowerOfTwo(self, n: int) -> bool:\n",
    "        if n == 0:\n",
    "            return True\n",
    "        if n == 1:\n",
    "            return True\n",
    "        \n",
    "        res = 2 * self.isPowerOfTwo(n//2)\n",
    "\n",
    "        return res\n",
    "\n",
    "ans = Solution()\n",
    "print(ans.isPowerOfTwo(32))"
   ]
  },
  {
   "cell_type": "code",
   "execution_count": 14,
   "metadata": {},
   "outputs": [
    {
     "data": {
      "text/plain": [
       "5.656854249492381"
      ]
     },
     "execution_count": 14,
     "metadata": {},
     "output_type": "execute_result"
    }
   ],
   "source": [
    "import math\n",
    "math.sqrt(32)"
   ]
  },
  {
   "cell_type": "code",
   "execution_count": 27,
   "metadata": {},
   "outputs": [
    {
     "data": {
      "text/plain": [
       "6.0"
      ]
     },
     "execution_count": 27,
     "metadata": {},
     "output_type": "execute_result"
    }
   ],
   "source": [
    "2 ** math.log(6, 2)"
   ]
  },
  {
   "cell_type": "code",
   "execution_count": 44,
   "metadata": {},
   "outputs": [
    {
     "name": "stdout",
     "output_type": "stream",
     "text": [
      "5\n",
      "4\n",
      "3\n",
      "2\n",
      "1\n"
     ]
    }
   ],
   "source": [
    "def x(n, idx=0):\n",
    "    if n == 0:\n",
    "        return\n",
    "    print(n)\n",
    "    x(n-1)\n",
    "\n",
    "\n",
    "x(5, idx=0)"
   ]
  },
  {
   "cell_type": "code",
   "execution_count": 58,
   "metadata": {},
   "outputs": [
    {
     "name": "stdout",
     "output_type": "stream",
     "text": [
      "15\n"
     ]
    }
   ],
   "source": [
    "def sumarr(arr, idx = 0):\n",
    "    if len(arr) == 0:\n",
    "        return 0\n",
    "    if len(arr) == 1:\n",
    "        return arr[-1]\n",
    "    \n",
    "    sa = arr[0] +  sum(arr[1:]) \n",
    "    return sa\n",
    "\n",
    "\n",
    "arr = [1, 2, 3, 4, 5]\n",
    "sumarr(arr, idx=0)"
   ]
  },
  {
   "cell_type": "code",
   "execution_count": 64,
   "metadata": {},
   "outputs": [
    {
     "name": "stdout",
     "output_type": "stream",
     "text": [
      "0\n"
     ]
    }
   ],
   "source": [
    "def fact(n, idx=0):\n",
    "    if n == 0:\n",
    "        return n\n",
    "    \n",
    "    return (fact(n-1, n))\n",
    "    \n",
    "\n",
    "print(fact(4))\n"
=======
    "def lastIndexEle(arr, n):\n",
    "    print(arr)\n",
    "    if len(arr) == 0:\n",
    "        return -1\n",
    "    \n",
    "    elif len(arr) == 1:\n",
    "        return 0\n",
    "    \n",
    "    elif n not in arr:\n",
    "        return -1\n",
    "    \n",
    "    if arr[-1] == n:\n",
    "        return arr.index(n)\n",
    "    return lastIndexEle(arr[:-1], n)\n",
    "\n",
    "\n",
    "arr = [2, 3, 5, 6, 8]\n",
    "print(lastIndexEle(arr, 5))"
>>>>>>> 3412204d1bc860432efe76bfbd07b6ff8eeb3e47
   ]
  },
  {
   "cell_type": "code",
   "execution_count": null,
   "metadata": {},
   "outputs": [],
   "source": []
  }
 ],
 "metadata": {
  "kernelspec": {
   "display_name": "Python 3",
   "language": "python",
   "name": "python3"
  },
  "language_info": {
   "codemirror_mode": {
    "name": "ipython",
    "version": 3
   },
   "file_extension": ".py",
   "mimetype": "text/x-python",
   "name": "python",
   "nbconvert_exporter": "python",
   "pygments_lexer": "ipython3",
   "version": "3.11.4"
  }
 },
 "nbformat": 4,
 "nbformat_minor": 2
}
