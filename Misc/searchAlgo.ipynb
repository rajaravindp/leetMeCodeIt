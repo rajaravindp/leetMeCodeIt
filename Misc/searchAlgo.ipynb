{
 "cells": [
  {
   "cell_type": "markdown",
   "metadata": {},
   "source": [
    "# Linear Search"
   ]
  },
  {
   "cell_type": "code",
   "execution_count": 7,
   "metadata": {},
   "outputs": [
    {
     "name": "stdout",
     "output_type": "stream",
     "text": [
      "2\n",
      "-1\n"
     ]
    }
   ],
   "source": [
    "# Find index of target in arr\n",
    "def linsearch(n, target):\n",
    "    for i in range(0, len(n)-1):\n",
    "        if n[i] == target:\n",
    "            return i\n",
    "    return -1\n",
    "x = [2, 4, 6, 8, 6, 10] \n",
    "print(linsearch(x, 6))\n",
    "print(linsearch(x, 61))"
   ]
  },
  {
   "cell_type": "markdown",
   "metadata": {},
   "source": [
    "# Binary Search\n",
    "\n",
    "Will only work for sorted arrays"
   ]
  },
  {
   "cell_type": "code",
   "execution_count": 18,
   "metadata": {},
   "outputs": [],
   "source": [
    "# Find index of target in arr\n",
    "def binsearch(arr, target): \n",
    "    start = 0\n",
    "    end = len(arr) -1\n",
    "    while start <= end: \n",
    "        mid = (end + start)//2\n",
    "        if arr[mid] == target: \n",
    "            return mid\n",
    "        elif target > arr[mid]: \n",
    "            start = mid + 1\n",
    "        else: \n",
    "            end = mid - 1\n",
    "    return -1\n"
   ]
  },
  {
   "cell_type": "code",
   "execution_count": 26,
   "metadata": {},
   "outputs": [
    {
     "data": {
      "text/plain": [
       "-1"
      ]
     },
     "execution_count": 26,
     "metadata": {},
     "output_type": "execute_result"
    }
   ],
   "source": [
    "x = [2, 4, 5, 6, 8, 10]\n",
    "\n",
    "binsearch(x, 8)"
   ]
  }
 ],
 "metadata": {
  "kernelspec": {
   "display_name": "Python 3",
   "language": "python",
   "name": "python3"
  },
  "language_info": {
   "codemirror_mode": {
    "name": "ipython",
    "version": 3
   },
   "file_extension": ".py",
   "mimetype": "text/x-python",
   "name": "python",
   "nbconvert_exporter": "python",
   "pygments_lexer": "ipython3",
   "version": "3.11.4"
  }
 },
 "nbformat": 4,
 "nbformat_minor": 2
}
