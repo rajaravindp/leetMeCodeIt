{
 "cells": [
  {
   "cell_type": "code",
   "execution_count": 12,
   "metadata": {},
   "outputs": [
    {
     "name": "stdout",
     "output_type": "stream",
     "text": [
      "[2, 3, 5, 6, 8]\n",
      "4\n"
     ]
    }
   ],
   "source": [
    "def lastIndexEle(arr, n):\n",
    "    print(arr)\n",
    "    if len(arr) == 0:\n",
    "        return -1\n",
    "    \n",
    "    elif len(arr) == 1:\n",
    "        return 0\n",
    "    \n",
    "    elif n not in arr:\n",
    "        return -1\n",
    "    \n",
    "    if arr[-1] == n:\n",
    "        return arr.index(n)\n",
    "    return lastIndexEle(arr[:-1], n)\n",
    "\n",
    "\n",
    "arr = [2, 3, 5, 6, 8]\n",
    "print(lastIndexEle(arr, 5))"
   ]
  },
  {
   "cell_type": "code",
   "execution_count": null,
   "metadata": {},
   "outputs": [],
   "source": []
  }
 ],
 "metadata": {
  "kernelspec": {
   "display_name": "Python 3",
   "language": "python",
   "name": "python3"
  },
  "language_info": {
   "codemirror_mode": {
    "name": "ipython",
    "version": 3
   },
   "file_extension": ".py",
   "mimetype": "text/x-python",
   "name": "python",
   "nbconvert_exporter": "python",
   "pygments_lexer": "ipython3",
   "version": "3.11.4"
  }
 },
 "nbformat": 4,
 "nbformat_minor": 2
}
